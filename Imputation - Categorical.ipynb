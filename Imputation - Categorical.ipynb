{
 "cells": [
  {
   "cell_type": "markdown",
   "metadata": {},
   "source": [
    "### Imputation of categorical feature"
   ]
  },
  {
   "cell_type": "markdown",
   "metadata": {},
   "source": [
    "Categorical variables may also contain missing values. The methods of imputation share the same principle as those for numerical values.\n",
    "\n",
    "Replacement of missing values by the most frequent category is the equivalent of mean/median imputation. It consists of replacing all occurrences of missing values (NA) within the most frequent label or category of the variable."
   ]
  },
  {
   "cell_type": "markdown",
   "metadata": {},
   "source": [
    "#### Assumptions\n",
    "Replacement of NA by the most frequent category has the assumption that the data are missing completely at random (MCAR). The rationale is that the value that should have been seen for the missing observation is most likely the most frequent value or category."
   ]
  },
  {
   "cell_type": "markdown",
   "metadata": {},
   "source": [
    "#### Limitation\n",
    "It may lead to over-representation of the most frequent label if there is a big number of NA"
   ]
  },
  {
   "cell_type": "code",
   "execution_count": 1,
   "metadata": {},
   "outputs": [],
   "source": [
    "import numpy as np\n",
    "import pandas as pd"
   ]
  },
  {
   "cell_type": "code",
   "execution_count": 3,
   "metadata": {},
   "outputs": [],
   "source": [
    "# House_proce dataset\n",
    "# lets load few cols of this dataset\n",
    "\n",
    "cols_to_use = ['BsmtQual', 'FireplaceQu', 'GarageType', 'SalePrice']\n",
    "\n",
    "data = pd.read_csv(r'./data/house_price.csv', usecols = cols_to_use)"
   ]
  },
  {
   "cell_type": "markdown",
   "metadata": {},
   "source": [
    "#### About Columns\n",
    "- BsmtQual: Evaluates the height of the basement\n",
    "\n",
    "       Ex: Excellent (100+ inches)\t\n",
    "       Gd: Good (90-99 inches)\n",
    "       TA: Typical (80-89 inches)\n",
    "       Fa: Fair (70-79 inches)\n",
    "       Po: Poor (<70 inches\n",
    "       NA: No Basement"
   ]
  },
  {
   "cell_type": "markdown",
   "metadata": {},
   "source": [
    "- FireplaceQu: Fireplace quality\n",
    "\n",
    "       Ex: Excellent - Exceptional Masonry Fireplace\n",
    "       Gd: Good - Masonry Fireplace in main level\n",
    "       TA: Avg - Prefabricated Fireplace in main living area or Masonry Fireplace in basement\n",
    "       Fa: Fair - Prefabricated Fireplace in basement\n",
    "       Po: Poor - Ben Franklin Stove\n",
    "       NA: No Fireplace"
   ]
  },
  {
   "cell_type": "markdown",
   "metadata": {},
   "source": [
    "- GarageType: Garage location\n",
    "\t\t\n",
    "       2Types: More than one type of garage\n",
    "       Attchd: Attached to home\n",
    "       Basment: Basement Garage\n",
    "       BuiltIn: Built-In (Garage part of house - typically has room above garage)\n",
    "       CarPort: Car Port\n",
    "       Detchd: Detached from home\n",
    "       NA: No Garage"
   ]
  },
  {
   "cell_type": "code",
   "execution_count": 4,
   "metadata": {},
   "outputs": [
    {
     "data": {
      "text/html": [
       "<div>\n",
       "<style scoped>\n",
       "    .dataframe tbody tr th:only-of-type {\n",
       "        vertical-align: middle;\n",
       "    }\n",
       "\n",
       "    .dataframe tbody tr th {\n",
       "        vertical-align: top;\n",
       "    }\n",
       "\n",
       "    .dataframe thead th {\n",
       "        text-align: right;\n",
       "    }\n",
       "</style>\n",
       "<table border=\"1\" class=\"dataframe\">\n",
       "  <thead>\n",
       "    <tr style=\"text-align: right;\">\n",
       "      <th></th>\n",
       "      <th>BsmtQual</th>\n",
       "      <th>FireplaceQu</th>\n",
       "      <th>GarageType</th>\n",
       "      <th>SalePrice</th>\n",
       "    </tr>\n",
       "  </thead>\n",
       "  <tbody>\n",
       "    <tr>\n",
       "      <th>0</th>\n",
       "      <td>Gd</td>\n",
       "      <td>NaN</td>\n",
       "      <td>Attchd</td>\n",
       "      <td>208500</td>\n",
       "    </tr>\n",
       "    <tr>\n",
       "      <th>1</th>\n",
       "      <td>Gd</td>\n",
       "      <td>TA</td>\n",
       "      <td>Attchd</td>\n",
       "      <td>181500</td>\n",
       "    </tr>\n",
       "    <tr>\n",
       "      <th>2</th>\n",
       "      <td>Gd</td>\n",
       "      <td>TA</td>\n",
       "      <td>Attchd</td>\n",
       "      <td>223500</td>\n",
       "    </tr>\n",
       "    <tr>\n",
       "      <th>3</th>\n",
       "      <td>TA</td>\n",
       "      <td>Gd</td>\n",
       "      <td>Detchd</td>\n",
       "      <td>140000</td>\n",
       "    </tr>\n",
       "    <tr>\n",
       "      <th>4</th>\n",
       "      <td>Gd</td>\n",
       "      <td>TA</td>\n",
       "      <td>Attchd</td>\n",
       "      <td>250000</td>\n",
       "    </tr>\n",
       "  </tbody>\n",
       "</table>\n",
       "</div>"
      ],
      "text/plain": [
       "  BsmtQual FireplaceQu GarageType  SalePrice\n",
       "0       Gd         NaN     Attchd     208500\n",
       "1       Gd          TA     Attchd     181500\n",
       "2       Gd          TA     Attchd     223500\n",
       "3       TA          Gd     Detchd     140000\n",
       "4       Gd          TA     Attchd     250000"
      ]
     },
     "execution_count": 4,
     "metadata": {},
     "output_type": "execute_result"
    }
   ],
   "source": [
    "data.head()"
   ]
  },
  {
   "cell_type": "code",
   "execution_count": 9,
   "metadata": {},
   "outputs": [
    {
     "data": {
      "text/plain": [
       "BsmtQual        2.53%\n",
       "FireplaceQu    47.26%\n",
       "GarageType      5.55%\n",
       "SalePrice        0.0%\n",
       "dtype: object"
      ]
     },
     "execution_count": 9,
     "metadata": {},
     "output_type": "execute_result"
    }
   ],
   "source": [
    "# % of missing data\n",
    "(data.isna().mean() * 100).map(lambda x : str(round(x, 2)) + '%')"
   ]
  },
  {
   "cell_type": "markdown",
   "metadata": {},
   "source": [
    "* The variables BsmtQual and GarageType contain only a few observations with NA (2.5 and 5 %, respectively), therefore, replacing those observations with the value of the most frequent category is a good approach.\n",
    "\n",
    "* On the other hand, the variable FireplaceQu, contains missing data in almost half of the observations. Therefore, replacing those with the most frequent category is most likely going to distort the relationship of the most frequent category with the sale price. In addition, if so many observations contain missing values, it has to be for a reason, so we would be better off capturing missingness somehow."
   ]
  },
  {
   "cell_type": "code",
   "execution_count": 10,
   "metadata": {},
   "outputs": [],
   "source": [
    "from sklearn.model_selection import train_test_split"
   ]
  },
  {
   "cell_type": "code",
   "execution_count": 12,
   "metadata": {},
   "outputs": [],
   "source": [
    "X_train, X_test, y_train, y_test = train_test_split(data[['BsmtQual', 'FireplaceQu', 'GarageType']],\n",
    "                                                   data['SalePrice'], test_size=0.3, random_state=0)"
   ]
  },
  {
   "cell_type": "code",
   "execution_count": 13,
   "metadata": {},
   "outputs": [],
   "source": [
    "import matplotlib.pyplot as plt\n",
    "import seaborn as sns"
   ]
  },
  {
   "cell_type": "code",
   "execution_count": 88,
   "metadata": {},
   "outputs": [],
   "source": [
    "def draw_barplot(S):\n",
    "    \n",
    "    '''draw barplot for categorical column and color bars'''\n",
    "    \n",
    "    cnt = S.fillna('missing').value_counts()\n",
    "    ax = sns.barplot(x = cnt.index, y=cnt)\n",
    "    \n",
    "    # get labels at x axis\n",
    "    xlabels = [x.get_text() for x in ax.get_xmajorticklabels()]\n",
    "\n",
    "    # find height of max bar\n",
    "    bar_heights = [bar.get_height() for bar in ax.patches]\n",
    "    max_height = max(bar_heights)\n",
    "    \n",
    "    # label corresponding to max heighted bar i.e. most frequest value\n",
    "    freq_value = xlabels[bar_heights.index(max_height)]\n",
    "    \n",
    "    # loop through, \n",
    "    # if bar is of max height color it  blue \n",
    "    # if label is missing , color bar as red else grey\n",
    "    # make sure color of max height bar is not overridden\n",
    "    \n",
    "    for bar , xlabel in zip(ax.patches, xlabels):\n",
    "        if bar.get_height() == max_height:\n",
    "            bar.set_color('tab:blue')\n",
    "        if xlabel.lower() == 'missing':\n",
    "            bar.set_color('tab:red')\n",
    "        elif bar.get_height() != max_height:\n",
    "            bar.set_color('grey')\n",
    "\n",
    "    plt.show()\n",
    "    return (freq_value)\n",
    "    "
   ]
  },
  {
   "cell_type": "code",
   "execution_count": 94,
   "metadata": {},
   "outputs": [
    {
     "data": {
      "image/png": "[encoded data removed]",
      "text/plain": [
       "<Figure size 432x288 with 1 Axes>"
      ]
     },
     "metadata": {
      "needs_background": "light"
     },
     "output_type": "display_data"
    },
    {
     "name": "stdout",
     "output_type": "stream",
     "text": [
      "Most frequent value: TA\n"
     ]
    }
   ],
   "source": [
    "# BsmtQual\n",
    "freq_val_BsmtQual = draw_barplot(X_train['BsmtQual'])\n",
    "print(f\"Most frequent value: {freq_val_BsmtQual}\")"
   ]
  },
  {
   "cell_type": "code",
   "execution_count": 95,
   "metadata": {
    "scrolled": true
   },
   "outputs": [
    {
     "data": {
      "image/png": "[encoded data removed]",
      "text/plain": [
       "<Figure size 432x288 with 1 Axes>"
      ]
     },
     "metadata": {
      "needs_background": "light"
     },
     "output_type": "display_data"
    },
    {
     "name": "stdout",
     "output_type": "stream",
     "text": [
      "Most frequent value: Attchd\n"
     ]
    }
   ],
   "source": [
    "# GarageType\n",
    "freq_val_GarageType = draw_barplot(X_train['GarageType'])\n",
    "print(f\"Most frequent value: {freq_val_GarageType}\")"
   ]
  },
  {
   "cell_type": "code",
   "execution_count": 96,
   "metadata": {},
   "outputs": [
    {
     "data": {
      "image/png": "[encoded data removed]",
      "text/plain": [
       "<Figure size 432x288 with 1 Axes>"
      ]
     },
     "metadata": {
      "needs_background": "light"
     },
     "output_type": "display_data"
    },
    {
     "name": "stdout",
     "output_type": "stream",
     "text": [
      "Most frequent value: missing\n"
     ]
    }
   ],
   "source": [
    "# FireplaceQu\n",
    "freq_val_FireplaceQu = draw_barplot(X_train['FireplaceQu'])\n",
    "print(f\"Most frequent value: {freq_val_FireplaceQu}\")"
   ]
  },
  {
   "cell_type": "markdown",
   "metadata": {},
   "source": [
    "#### Impute missing values"
   ]
  },
  {
   "cell_type": "code",
   "execution_count": 97,
   "metadata": {},
   "outputs": [],
   "source": [
    "def impute_missing_categorical(train_df, test_df, varname, freq_val):\n",
    "    train_df[varname].fillna(freq_val, inplace=True)\n",
    "    test_df[varname].fillna(freq_val, inplace=True)\n",
    "    "
   ]
  },
  {
   "cell_type": "code",
   "execution_count": 99,
   "metadata": {},
   "outputs": [],
   "source": [
    "for varname, freq_val in zip(['BsmtQual','GarageType'], [freq_val_BsmtQual, freq_val_GarageType]):\n",
    "    impute_missing_categorical(X_train, X_test, varname, freq_val)"
   ]
  },
  {
   "cell_type": "code",
   "execution_count": 100,
   "metadata": {},
   "outputs": [
    {
     "data": {
      "image/png": "[encoded data removed]",
      "text/plain": [
       "<Figure size 432x288 with 1 Axes>"
      ]
     },
     "metadata": {
      "needs_background": "light"
     },
     "output_type": "display_data"
    },
    {
     "name": "stdout",
     "output_type": "stream",
     "text": [
      "Frequent value : TA\n"
     ]
    },
    {
     "data": {
      "image/png": "[encoded data removed]",
      "text/plain": [
       "<Figure size 432x288 with 1 Axes>"
      ]
     },
     "metadata": {
      "needs_background": "light"
     },
     "output_type": "display_data"
    },
    {
     "name": "stdout",
     "output_type": "stream",
     "text": [
      "Frequent value : Attchd\n"
     ]
    }
   ],
   "source": [
    "# X_Train \n",
    "for varname in ['BsmtQual','GarageType']:\n",
    "    freqval = draw_barplot(X_train[varname])\n",
    "    print(f\"Frequent value : {freqval}\")"
   ]
  },
  {
   "cell_type": "code",
   "execution_count": 101,
   "metadata": {},
   "outputs": [
    {
     "data": {
      "image/png": "[encoded data removed]",
      "text/plain": [
       "<Figure size 432x288 with 1 Axes>"
      ]
     },
     "metadata": {
      "needs_background": "light"
     },
     "output_type": "display_data"
    },
    {
     "name": "stdout",
     "output_type": "stream",
     "text": [
      "Frequent value : TA\n"
     ]
    },
    {
     "data": {
      "image/png": "[encoded data removed]",
      "text/plain": [
       "<Figure size 432x288 with 1 Axes>"
      ]
     },
     "metadata": {
      "needs_background": "light"
     },
     "output_type": "display_data"
    },
    {
     "name": "stdout",
     "output_type": "stream",
     "text": [
      "Frequent value : Attchd\n"
     ]
    }
   ],
   "source": [
    "# X_Test\n",
    "for varname in ['BsmtQual','GarageType']:\n",
    "    freqval = draw_barplot(X_test[varname])\n",
    "    print(f\"Frequent value : {freqval}\")"
   ]
  },
  {
   "cell_type": "markdown",
   "metadata": {},
   "source": [
    "### Adding a category to capture NA\n",
    "- This is perhaps the most widely used method of missing data imputation for categorical variables. \n",
    "- This method consists in treating missing data as if they were an additional label or category of the variable. \n",
    "- All the missing observations are grouped in the newly created label 'Missing'.\n",
    "- The beauty of this technique resides on the fact that it does not assume anything on the missingness of the values. It is very well suited when the number of missing data is high."
   ]
  },
  {
   "cell_type": "code",
   "execution_count": 102,
   "metadata": {},
   "outputs": [],
   "source": [
    "def impute_na_addcategory(df, variable):\n",
    "    df[variable + '_NA' ]  = np.where(df[variable].isna(), 'Missing', df[variable])"
   ]
  },
  {
   "cell_type": "code",
   "execution_count": 103,
   "metadata": {},
   "outputs": [],
   "source": [
    "impute_na_addcategory(X_train, variable='FireplaceQu')"
   ]
  },
  {
   "cell_type": "code",
   "execution_count": 104,
   "metadata": {},
   "outputs": [],
   "source": [
    "impute_na_addcategory(X_test, variable='FireplaceQu')"
   ]
  },
  {
   "cell_type": "code",
   "execution_count": 108,
   "metadata": {},
   "outputs": [
    {
     "data": {
      "image/png": "[encoded data removed]",
      "text/plain": [
       "<Figure size 432x288 with 1 Axes>"
      ]
     },
     "metadata": {
      "needs_background": "light"
     },
     "output_type": "display_data"
    }
   ],
   "source": [
    "# train\n",
    "freqval = draw_barplot(X_train['FireplaceQu_NA'])"
   ]
  },
  {
   "cell_type": "code",
   "execution_count": 109,
   "metadata": {},
   "outputs": [
    {
     "data": {
      "image/png": "[encoded data removed]",
      "text/plain": [
       "<Figure size 432x288 with 1 Axes>"
      ]
     },
     "metadata": {
      "needs_background": "light"
     },
     "output_type": "display_data"
    }
   ],
   "source": [
    "# test\n",
    "freqvalue = draw_barplot(X_test['FireplaceQu_NA'])"
   ]
  }
 ],
 "metadata": {
  "kernelspec": {
   "display_name": "Python3_6",
   "language": "python",
   "name": "test_env_3"
  },
  "language_info": {
   "codemirror_mode": {
    "name": "ipython",
    "version": 3
   },
   "file_extension": ".py",
   "mimetype": "text/x-python",
   "name": "python",
   "nbconvert_exporter": "python",
   "pygments_lexer": "ipython3",
   "version": "3.6.10"
  },
  "toc": {
   "base_numbering": 1,
   "nav_menu": {},
   "number_sections": true,
   "sideBar": true,
   "skip_h1_title": false,
   "title_cell": "Table of Contents",
   "title_sidebar": "Contents",
   "toc_cell": false,
   "toc_position": {},
   "toc_section_display": true,
   "toc_window_display": false
  }
 },
 "nbformat": 4,
 "nbformat_minor": 4
}
